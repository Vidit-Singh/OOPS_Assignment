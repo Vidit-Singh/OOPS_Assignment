{
 "cells": [
  {
   "cell_type": "markdown",
   "id": "7bc0937a-c042-4adb-a18d-acfdab686fe9",
   "metadata": {},
   "source": [
    "# Q1, Create a vehicle class with an init method having instance variables as name_of_vehicle, max_speed and average_of_vehicle."
   ]
  },
  {
   "cell_type": "code",
   "execution_count": 7,
   "id": "f3a59d1a-40dc-4e01-83f8-e432005ee2e2",
   "metadata": {},
   "outputs": [],
   "source": [
    "class vehicle:\n",
    "    \n",
    "    def __init__(self,name_of_vehicle,max_speed,avg_of_vehicle):\n",
    "        self.name = name_of_vehicle\n",
    "        self.max_speed = max_speed\n",
    "        self.avg = avg_of_vehicle\n",
    "        \n",
    "    def get_details(self):\n",
    "        return self.name,self.max_speed,self.avg\n",
    "        "
   ]
  },
  {
   "cell_type": "code",
   "execution_count": 8,
   "id": "ea248f0c-98d4-4355-b492-920d353692f6",
   "metadata": {},
   "outputs": [],
   "source": [
    "car1 = vehicle('Honda_City',180,30)"
   ]
  },
  {
   "cell_type": "code",
   "execution_count": 9,
   "id": "f2a308a3-31c6-47e6-b787-63861515c312",
   "metadata": {},
   "outputs": [
    {
     "data": {
      "text/plain": [
       "('Honda_City', 180, 30)"
      ]
     },
     "execution_count": 9,
     "metadata": {},
     "output_type": "execute_result"
    }
   ],
   "source": [
    "car1.get_details()"
   ]
  },
  {
   "cell_type": "markdown",
   "id": "6e071a1d-a989-4a84-bc9b-720031cb46b4",
   "metadata": {},
   "source": [
    "# Q2. Create a child class car from the vehicle class created in Que 1, which will inherit the vehicle class.Create a method named seating_capacity which takes capacity as an argument and returns the name of the vehicle and its seating capacity."
   ]
  },
  {
   "cell_type": "code",
   "execution_count": 10,
   "id": "30c09fba-7bb7-4b86-bcaf-0211b43e765d",
   "metadata": {},
   "outputs": [],
   "source": [
    "class Vehicle():\n",
    "    def __init__(self,name_of_vehicle,max_speed,average_of_vehicle):\n",
    "        self.name_of_vehicle = name_of_vehicle\n",
    "        self.max_speed = max_speed\n",
    "        self.average_of_vehicle = average_of_vehicle"
   ]
  },
  {
   "cell_type": "code",
   "execution_count": 11,
   "id": "8fdb4db1-f518-491d-aead-00578581ae0b",
   "metadata": {},
   "outputs": [],
   "source": [
    "class Car(Vehicle):\n",
    "    def seating_capacity(self,capacity):\n",
    "        return self.name_of_vehicle,capacity"
   ]
  },
  {
   "cell_type": "code",
   "execution_count": 12,
   "id": "1b9b8963-6641-467d-bafd-d9f270d60320",
   "metadata": {},
   "outputs": [
    {
     "data": {
      "text/plain": [
       "('Swift', 4)"
      ]
     },
     "execution_count": 12,
     "metadata": {},
     "output_type": "execute_result"
    }
   ],
   "source": [
    "obj_class = Car(\"Swift\",180,70)\n",
    "obj_class.seating_capacity(4)"
   ]
  },
  {
   "cell_type": "markdown",
   "id": "1b7827f9-3af4-446e-8c0c-860455921c8c",
   "metadata": {},
   "source": [
    "# Q3. What is multiple inheritance? Write a python code to demonstrate multiple inheritance."
   ]
  },
  {
   "cell_type": "markdown",
   "id": "6a9f0f98-59c4-4993-aa50-46f8286d82b0",
   "metadata": {},
   "source": [
    "-  When a class is derived from more than one base class it is called multiple Inheritance. \n",
    "- The derived class inherits all the features of the base class.\n",
    " \n",
    "\n"
   ]
  },
  {
   "cell_type": "code",
   "execution_count": 13,
   "id": "229bf77a-5fb5-4405-a2b2-2537e03887a3",
   "metadata": {},
   "outputs": [
    {
     "name": "stdout",
     "output_type": "stream",
     "text": [
      "In Class2\n"
     ]
    }
   ],
   "source": [
    "# Python Program to demonstrate  multiple inheritance\n",
    "\n",
    "class Class1:\n",
    "\tdef test(self):\n",
    "\t\tprint(\"In Class1\") \n",
    "\t\n",
    "class Class2(Class1):\n",
    "\tdef test(self):\n",
    "\t\tprint(\"In Class2\")\n",
    "\n",
    "class Class3(Class1):\n",
    "\tdef test(self):\n",
    "\t\tprint(\"In Class3\") \n",
    "\t\t\n",
    "class Class4(Class2, Class3):\n",
    "\tpass\n",
    "\t\n",
    "obj = Class4()\n",
    "obj.test()\n"
   ]
  },
  {
   "cell_type": "markdown",
   "id": "7211c197-de84-4ba8-ac08-c3f5db2d9ca9",
   "metadata": {},
   "source": [
    "# Q4. What are getter and setter in python? Create a class and create a getter and a setter method in this class."
   ]
  },
  {
   "cell_type": "markdown",
   "id": "acc436e3-7b50-409d-9d8a-a17f327f9316",
   "metadata": {},
   "source": [
    "- Getter: A method that allows you to access an attribute in a given class\n",
    "- Setter: A method that allows you to set or mutate the value of an attribute in a class"
   ]
  },
  {
   "cell_type": "code",
   "execution_count": 14,
   "id": "b0106ab4-69a5-45c7-85c3-ecc88a4a12f9",
   "metadata": {},
   "outputs": [],
   "source": [
    "\n",
    "class Label:\n",
    "    def __init__(self, text, font):\n",
    "        self._text = text\n",
    "        self._font = font\n",
    "\n",
    "    def get_text(self):\n",
    "        return self._text\n",
    "\n",
    "    def set_text(self, value):\n",
    "        self._text = value\n",
    "\n",
    "    def get_font(self):\n",
    "        return self._font\n",
    "\n",
    "    def set_font(self, value):\n",
    "        self._font = value"
   ]
  },
  {
   "cell_type": "code",
   "execution_count": 15,
   "id": "350c79bb-2747-48b6-88d3-ca28852ee393",
   "metadata": {},
   "outputs": [],
   "source": [
    "text_1 = Label('pwskills','simple')"
   ]
  },
  {
   "cell_type": "code",
   "execution_count": 16,
   "id": "9c0d6aca-3ae9-463c-9f14-c7570e14c2af",
   "metadata": {},
   "outputs": [],
   "source": [
    "text_1.set_text('PWSKILLS')\n",
    "text_1.set_font('UPPERCASE')"
   ]
  },
  {
   "cell_type": "code",
   "execution_count": 17,
   "id": "3624154b-8fe0-4448-80a9-23c89874312d",
   "metadata": {},
   "outputs": [
    {
     "name": "stdout",
     "output_type": "stream",
     "text": [
      "PWSKILLS\n",
      "UPPERCASE\n"
     ]
    }
   ],
   "source": [
    "print(text_1.get_text())\n",
    "print(text_1.get_font())"
   ]
  },
  {
   "cell_type": "markdown",
   "id": "aadcb273-ba1b-4ee9-acfb-4dd343664f42",
   "metadata": {},
   "source": [
    "# Q5.What is method overriding in python? Write a python code to demonstrate method overriding."
   ]
  },
  {
   "cell_type": "markdown",
   "id": "4e2387a5-87db-42f5-ac1d-ad34efa97a0b",
   "metadata": {},
   "source": [
    "- Method overriding allows you to redefine a method in a subclass or the derived class previously defined in its parent or the superclass. An OOP language can allow a child class or subclass to have a customised implementation of a method already provided by one of its parent classes or super-classes."
   ]
  },
  {
   "cell_type": "code",
   "execution_count": 18,
   "id": "8f75122b-44b0-47e0-b87a-a3d8942fc9c0",
   "metadata": {},
   "outputs": [
    {
     "name": "stdout",
     "output_type": "stream",
     "text": [
      "Inside Parent\n",
      "Inside Child\n"
     ]
    }
   ],
   "source": [
    "# Python program to demonstrate \n",
    "# method overriding \n",
    "\n",
    "\n",
    "# Defining parent class \n",
    "class Parent(): \n",
    "\t\n",
    "\t# Constructor \n",
    "\tdef __init__(self): \n",
    "\t\tself.value = \"Inside Parent\"\n",
    "\t\t\n",
    "\t# Parent's show method \n",
    "\tdef show(self): \n",
    "\t\tprint(self.value) \n",
    "\t\t\n",
    "# Defining child class \n",
    "class Child(Parent): \n",
    "\t\n",
    "\t# Constructor \n",
    "\tdef __init__(self): \n",
    "\t\tself.value = \"Inside Child\"\n",
    "\t\t\n",
    "\t# Child's show method \n",
    "\tdef show(self): \n",
    "\t\tprint(self.value) \n",
    "\t\t \n",
    "obj1 = Parent() \n",
    "obj2 = Child() \n",
    "\n",
    "obj1.show() \n",
    "obj2.show() \n"
   ]
  },
  {
   "cell_type": "code",
   "execution_count": null,
   "id": "2d45e493-74e0-427d-b35a-cd29416f4f24",
   "metadata": {},
   "outputs": [],
   "source": []
  }
 ],
 "metadata": {
  "kernelspec": {
   "display_name": "Python 3 (ipykernel)",
   "language": "python",
   "name": "python3"
  },
  "language_info": {
   "codemirror_mode": {
    "name": "ipython",
    "version": 3
   },
   "file_extension": ".py",
   "mimetype": "text/x-python",
   "name": "python",
   "nbconvert_exporter": "python",
   "pygments_lexer": "ipython3",
   "version": "3.10.8"
  }
 },
 "nbformat": 4,
 "nbformat_minor": 5
}
